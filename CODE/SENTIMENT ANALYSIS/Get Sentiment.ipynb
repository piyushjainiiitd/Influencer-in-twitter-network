{
 "cells": [
  {
   "cell_type": "code",
   "execution_count": 3,
   "metadata": {},
   "outputs": [],
   "source": [
    "# Use textblob to find the sentiment\n",
    "import csv\n",
    "import pandas\n",
    "from textblob import TextBlob\n",
    "from tqdm import tqdm_notebook as tqdm\n",
    "from translate import Translator"
   ]
  },
  {
   "cell_type": "code",
   "execution_count": 4,
   "metadata": {},
   "outputs": [],
   "source": [
    "dataframe = pandas.read_csv('Retweet-Data+Sentiment.csv') # Load csv file"
   ]
  },
  {
   "cell_type": "code",
   "execution_count": 3,
   "metadata": {},
   "outputs": [
    {
     "data": {
      "application/vnd.jupyter.widget-view+json": {
       "model_id": "6620245e65a74f7ea96d5e0fcb406b47",
       "version_major": 2,
       "version_minor": 0
      },
      "text/plain": [
       "HBox(children=(IntProgress(value=1, bar_style='info', max=1), HTML(value='')))"
      ]
     },
     "metadata": {},
     "output_type": "display_data"
    },
    {
     "name": "stdout",
     "output_type": "stream",
     "text": [
      "\n"
     ]
    }
   ],
   "source": [
    "sentiment = {} # Get sentiment for tweet with the tweet - id\n",
    "for index, row in tqdm((dataframe[[\"Tweet-Id\",\"Tweet\",\"Language\"]].drop_duplicates()).iterrows()): # Remove duplicate rows\n",
    "    if row[\"Language\"] != \"en\": # If language is non english translate to english and find the sentiment\n",
    "        textb = TextBlob(Translator(from_lang=row[\"Language\"],to_lang=\"en\").translate(row[\"Tweet\"])).sentiment[0]\n",
    "        if (textb!=0):\n",
    "            sentiment[row[\"Tweet-Id\"]] = 1 if textb > 0 else -1\n",
    "        else:\n",
    "            sentiment[row[\"Tweet-Id\"]] = 0\n",
    "    else:# If language is english just find the sentiment\n",
    "        textb = TextBlob(row[\"Tweet\"]).sentiment[0]\n",
    "        if (textb!=0):\n",
    "            sentiment[row[\"Tweet-Id\"]] = 1 if textb > 0 else -1\n",
    "        else:\n",
    "            sentiment[row[\"Tweet-Id\"]] = 0"
   ]
  },
  {
   "cell_type": "code",
   "execution_count": 4,
   "metadata": {},
   "outputs": [
    {
     "data": {
      "application/vnd.jupyter.widget-view+json": {
       "model_id": "947ca2d63b6b4086b313ab4b01f61274",
       "version_major": 2,
       "version_minor": 0
      },
      "text/plain": [
       "HBox(children=(IntProgress(value=1, bar_style='info', max=1), HTML(value='')))"
      ]
     },
     "metadata": {},
     "output_type": "display_data"
    },
    {
     "name": "stdout",
     "output_type": "stream",
     "text": [
      "\n"
     ]
    }
   ],
   "source": [
    "answerList = []\n",
    "for index, row in tqdm(dataframe.iterrows()):\n",
    "    answerList += [sentiment[row[\"Tweet-Id\"]]]"
   ]
  },
  {
   "cell_type": "code",
   "execution_count": 5,
   "metadata": {},
   "outputs": [],
   "source": [
    "dataframe[\"Sentiment\"] = answerList\n",
    "dataframe.to_csv(\"Retweet-Data+Sentiment.csv\")"
   ]
  },
  {
   "cell_type": "code",
   "execution_count": null,
   "metadata": {},
   "outputs": [],
   "source": []
  },
  {
   "cell_type": "code",
   "execution_count": null,
   "metadata": {},
   "outputs": [],
   "source": []
  }
 ],
 "metadata": {
  "kernelspec": {
   "display_name": "Python 3",
   "language": "python",
   "name": "python3"
  },
  "language_info": {
   "codemirror_mode": {
    "name": "ipython",
    "version": 3
   },
   "file_extension": ".py",
   "mimetype": "text/x-python",
   "name": "python",
   "nbconvert_exporter": "python",
   "pygments_lexer": "ipython3",
   "version": "3.7.4"
  }
 },
 "nbformat": 4,
 "nbformat_minor": 2
}
