{
  "nbformat": 4,
  "nbformat_minor": 0,
  "metadata": {
    "colab": {
      "name": "GCN+Influence.ipynb",
      "provenance": [],
      "collapsed_sections": []
    },
    "kernelspec": {
      "name": "python3",
      "display_name": "Python 3"
    }
  },
  "cells": [
    {
      "cell_type": "code",
      "metadata": {
        "id": "yFw6XlfM-VV9",
        "colab_type": "code",
        "outputId": "0f31b15b-c025-41ea-f93b-48b819b12c85",
        "colab": {
          "base_uri": "https://localhost:8080/",
          "height": 266
        }
      },
      "source": [
        "!pip install dgl"
      ],
      "execution_count": 0,
      "outputs": [
        {
          "output_type": "stream",
          "text": [
            "Collecting dgl\n",
            "\u001b[?25l  Downloading https://files.pythonhosted.org/packages/c5/b4/84e4ebd70ef3985181ef5d2d2a366a45af0e3cd18d249fb212ac03f683cf/dgl-0.4.3.post2-cp36-cp36m-manylinux1_x86_64.whl (3.0MB)\n",
            "\r\u001b[K     |                                | 10kB 17.1MB/s eta 0:00:01\r\u001b[K     |▏                               | 20kB 2.2MB/s eta 0:00:02\r\u001b[K     |▎                               | 30kB 3.2MB/s eta 0:00:01\r\u001b[K     |▍                               | 40kB 4.1MB/s eta 0:00:01\r\u001b[K     |▌                               | 51kB 2.7MB/s eta 0:00:02\r\u001b[K     |▋                               | 61kB 3.2MB/s eta 0:00:01\r\u001b[K     |▊                               | 71kB 3.6MB/s eta 0:00:01\r\u001b[K     |▉                               | 81kB 4.1MB/s eta 0:00:01\r\u001b[K     |█                               | 92kB 3.2MB/s eta 0:00:01\r\u001b[K     |█                               | 102kB 3.5MB/s eta 0:00:01\r\u001b[K     |█▏                              | 112kB 3.5MB/s eta 0:00:01\r\u001b[K     |█▎                              | 122kB 3.5MB/s eta 0:00:01\r\u001b[K     |█▍                              | 133kB 3.5MB/s eta 0:00:01\r\u001b[K     |█▌                              | 143kB 3.5MB/s eta 0:00:01\r\u001b[K     |█▋                              | 153kB 3.5MB/s eta 0:00:01\r\u001b[K     |█▊                              | 163kB 3.5MB/s eta 0:00:01\r\u001b[K     |█▉                              | 174kB 3.5MB/s eta 0:00:01\r\u001b[K     |██                              | 184kB 3.5MB/s eta 0:00:01\r\u001b[K     |██                              | 194kB 3.5MB/s eta 0:00:01\r\u001b[K     |██▏                             | 204kB 3.5MB/s eta 0:00:01\r\u001b[K     |██▎                             | 215kB 3.5MB/s eta 0:00:01\r\u001b[K     |██▍                             | 225kB 3.5MB/s eta 0:00:01\r\u001b[K     |██▌                             | 235kB 3.5MB/s eta 0:00:01\r\u001b[K     |██▋                             | 245kB 3.5MB/s eta 0:00:01\r\u001b[K     |██▊                             | 256kB 3.5MB/s eta 0:00:01\r\u001b[K     |██▉                             | 266kB 3.5MB/s eta 0:00:01\r\u001b[K     |███                             | 276kB 3.5MB/s eta 0:00:01\r\u001b[K     |███                             | 286kB 3.5MB/s eta 0:00:01\r\u001b[K     |███▏                            | 296kB 3.5MB/s eta 0:00:01\r\u001b[K     |███▎                            | 307kB 3.5MB/s eta 0:00:01\r\u001b[K     |███▍                            | 317kB 3.5MB/s eta 0:00:01\r\u001b[K     |███▌                            | 327kB 3.5MB/s eta 0:00:01\r\u001b[K     |███▋                            | 337kB 3.5MB/s eta 0:00:01\r\u001b[K     |███▊                            | 348kB 3.5MB/s eta 0:00:01\r\u001b[K     |███▉                            | 358kB 3.5MB/s eta 0:00:01\r\u001b[K     |████                            | 368kB 3.5MB/s eta 0:00:01\r\u001b[K     |████                            | 378kB 3.5MB/s eta 0:00:01\r\u001b[K     |████▏                           | 389kB 3.5MB/s eta 0:00:01\r\u001b[K     |████▎                           | 399kB 3.5MB/s eta 0:00:01\r\u001b[K     |████▍                           | 409kB 3.5MB/s eta 0:00:01\r\u001b[K     |████▌                           | 419kB 3.5MB/s eta 0:00:01\r\u001b[K     |████▋                           | 430kB 3.5MB/s eta 0:00:01\r\u001b[K     |████▊                           | 440kB 3.5MB/s eta 0:00:01\r\u001b[K     |████▉                           | 450kB 3.5MB/s eta 0:00:01\r\u001b[K     |█████                           | 460kB 3.5MB/s eta 0:00:01\r\u001b[K     |█████                           | 471kB 3.5MB/s eta 0:00:01\r\u001b[K     |█████▏                          | 481kB 3.5MB/s eta 0:00:01\r\u001b[K     |█████▎                          | 491kB 3.5MB/s eta 0:00:01\r\u001b[K     |█████▍                          | 501kB 3.5MB/s eta 0:00:01\r\u001b[K     |█████▌                          | 512kB 3.5MB/s eta 0:00:01\r\u001b[K     |█████▋                          | 522kB 3.5MB/s eta 0:00:01\r\u001b[K     |█████▊                          | 532kB 3.5MB/s eta 0:00:01\r\u001b[K     |█████▉                          | 542kB 3.5MB/s eta 0:00:01\r\u001b[K     |██████                          | 552kB 3.5MB/s eta 0:00:01\r\u001b[K     |██████                          | 563kB 3.5MB/s eta 0:00:01\r\u001b[K     |██████▏                         | 573kB 3.5MB/s eta 0:00:01\r\u001b[K     |██████▎                         | 583kB 3.5MB/s eta 0:00:01\r\u001b[K     |██████▍                         | 593kB 3.5MB/s eta 0:00:01\r\u001b[K     |██████▌                         | 604kB 3.5MB/s eta 0:00:01\r\u001b[K     |██████▋                         | 614kB 3.5MB/s eta 0:00:01\r\u001b[K     |██████▊                         | 624kB 3.5MB/s eta 0:00:01\r\u001b[K     |██████▉                         | 634kB 3.5MB/s eta 0:00:01\r\u001b[K     |███████                         | 645kB 3.5MB/s eta 0:00:01\r\u001b[K     |███████                         | 655kB 3.5MB/s eta 0:00:01\r\u001b[K     |███████▏                        | 665kB 3.5MB/s eta 0:00:01\r\u001b[K     |███████▎                        | 675kB 3.5MB/s eta 0:00:01\r\u001b[K     |███████▍                        | 686kB 3.5MB/s eta 0:00:01\r\u001b[K     |███████▌                        | 696kB 3.5MB/s eta 0:00:01\r\u001b[K     |███████▋                        | 706kB 3.5MB/s eta 0:00:01\r\u001b[K     |███████▊                        | 716kB 3.5MB/s eta 0:00:01\r\u001b[K     |███████▉                        | 727kB 3.5MB/s eta 0:00:01\r\u001b[K     |████████                        | 737kB 3.5MB/s eta 0:00:01\r\u001b[K     |████████                        | 747kB 3.5MB/s eta 0:00:01\r\u001b[K     |████████▏                       | 757kB 3.5MB/s eta 0:00:01\r\u001b[K     |████████▎                       | 768kB 3.5MB/s eta 0:00:01\r\u001b[K     |████████▍                       | 778kB 3.5MB/s eta 0:00:01\r\u001b[K     |████████▌                       | 788kB 3.5MB/s eta 0:00:01\r\u001b[K     |████████▋                       | 798kB 3.5MB/s eta 0:00:01\r\u001b[K     |████████▊                       | 808kB 3.5MB/s eta 0:00:01\r\u001b[K     |████████▉                       | 819kB 3.5MB/s eta 0:00:01\r\u001b[K     |█████████                       | 829kB 3.5MB/s eta 0:00:01\r\u001b[K     |█████████                       | 839kB 3.5MB/s eta 0:00:01\r\u001b[K     |█████████▏                      | 849kB 3.5MB/s eta 0:00:01\r\u001b[K     |█████████▎                      | 860kB 3.5MB/s eta 0:00:01\r\u001b[K     |█████████▍                      | 870kB 3.5MB/s eta 0:00:01\r\u001b[K     |█████████▌                      | 880kB 3.5MB/s eta 0:00:01\r\u001b[K     |█████████▋                      | 890kB 3.5MB/s eta 0:00:01\r\u001b[K     |█████████▊                      | 901kB 3.5MB/s eta 0:00:01\r\u001b[K     |█████████▉                      | 911kB 3.5MB/s eta 0:00:01\r\u001b[K     |██████████                      | 921kB 3.5MB/s eta 0:00:01\r\u001b[K     |██████████                      | 931kB 3.5MB/s eta 0:00:01\r\u001b[K     |██████████▏                     | 942kB 3.5MB/s eta 0:00:01\r\u001b[K     |██████████▎                     | 952kB 3.5MB/s eta 0:00:01\r\u001b[K     |██████████▍                     | 962kB 3.5MB/s eta 0:00:01\r\u001b[K     |██████████▌                     | 972kB 3.5MB/s eta 0:00:01\r\u001b[K     |██████████▋                     | 983kB 3.5MB/s eta 0:00:01\r\u001b[K     |██████████▊                     | 993kB 3.5MB/s eta 0:00:01\r\u001b[K     |██████████▉                     | 1.0MB 3.5MB/s eta 0:00:01\r\u001b[K     |███████████                     | 1.0MB 3.5MB/s eta 0:00:01\r\u001b[K     |███████████                     | 1.0MB 3.5MB/s eta 0:00:01\r\u001b[K     |███████████▏                    | 1.0MB 3.5MB/s eta 0:00:01\r\u001b[K     |███████████▎                    | 1.0MB 3.5MB/s eta 0:00:01\r\u001b[K     |███████████▍                    | 1.1MB 3.5MB/s eta 0:00:01\r\u001b[K     |███████████▌                    | 1.1MB 3.5MB/s eta 0:00:01\r\u001b[K     |███████████▋                    | 1.1MB 3.5MB/s eta 0:00:01\r\u001b[K     |███████████▊                    | 1.1MB 3.5MB/s eta 0:00:01\r\u001b[K     |███████████▉                    | 1.1MB 3.5MB/s eta 0:00:01\r\u001b[K     |████████████                    | 1.1MB 3.5MB/s eta 0:00:01\r\u001b[K     |████████████                    | 1.1MB 3.5MB/s eta 0:00:01\r\u001b[K     |████████████▏                   | 1.1MB 3.5MB/s eta 0:00:01\r\u001b[K     |████████████▎                   | 1.1MB 3.5MB/s eta 0:00:01\r\u001b[K     |████████████▍                   | 1.1MB 3.5MB/s eta 0:00:01\r\u001b[K     |████████████▌                   | 1.2MB 3.5MB/s eta 0:00:01\r\u001b[K     |████████████▋                   | 1.2MB 3.5MB/s eta 0:00:01\r\u001b[K     |████████████▊                   | 1.2MB 3.5MB/s eta 0:00:01\r\u001b[K     |████████████▉                   | 1.2MB 3.5MB/s eta 0:00:01\r\u001b[K     |█████████████                   | 1.2MB 3.5MB/s eta 0:00:01\r\u001b[K     |█████████████                   | 1.2MB 3.5MB/s eta 0:00:01\r\u001b[K     |█████████████▏                  | 1.2MB 3.5MB/s eta 0:00:01\r\u001b[K     |█████████████▎                  | 1.2MB 3.5MB/s eta 0:00:01\r\u001b[K     |█████████████▍                  | 1.2MB 3.5MB/s eta 0:00:01\r\u001b[K     |█████████████▌                  | 1.2MB 3.5MB/s eta 0:00:01\r\u001b[K     |█████████████▋                  | 1.3MB 3.5MB/s eta 0:00:01\r\u001b[K     |█████████████▊                  | 1.3MB 3.5MB/s eta 0:00:01\r\u001b[K     |█████████████▉                  | 1.3MB 3.5MB/s eta 0:00:01\r\u001b[K     |██████████████                  | 1.3MB 3.5MB/s eta 0:00:01\r\u001b[K     |██████████████                  | 1.3MB 3.5MB/s eta 0:00:01\r\u001b[K     |██████████████▏                 | 1.3MB 3.5MB/s eta 0:00:01\r\u001b[K     |██████████████▎                 | 1.3MB 3.5MB/s eta 0:00:01\r\u001b[K     |██████████████▍                 | 1.3MB 3.5MB/s eta 0:00:01\r\u001b[K     |██████████████▌                 | 1.3MB 3.5MB/s eta 0:00:01\r\u001b[K     |██████████████▋                 | 1.4MB 3.5MB/s eta 0:00:01\r\u001b[K     |██████████████▊                 | 1.4MB 3.5MB/s eta 0:00:01\r\u001b[K     |██████████████▉                 | 1.4MB 3.5MB/s eta 0:00:01\r\u001b[K     |███████████████                 | 1.4MB 3.5MB/s eta 0:00:01\r\u001b[K     |███████████████                 | 1.4MB 3.5MB/s eta 0:00:01\r\u001b[K     |███████████████▏                | 1.4MB 3.5MB/s eta 0:00:01\r\u001b[K     |███████████████▎                | 1.4MB 3.5MB/s eta 0:00:01\r\u001b[K     |███████████████▍                | 1.4MB 3.5MB/s eta 0:00:01\r\u001b[K     |███████████████▌                | 1.4MB 3.5MB/s eta 0:00:01\r\u001b[K     |███████████████▋                | 1.4MB 3.5MB/s eta 0:00:01\r\u001b[K     |███████████████▊                | 1.5MB 3.5MB/s eta 0:00:01\r\u001b[K     |███████████████▉                | 1.5MB 3.5MB/s eta 0:00:01\r\u001b[K     |████████████████                | 1.5MB 3.5MB/s eta 0:00:01\r\u001b[K     |████████████████                | 1.5MB 3.5MB/s eta 0:00:01\r\u001b[K     |████████████████▏               | 1.5MB 3.5MB/s eta 0:00:01\r\u001b[K     |████████████████▎               | 1.5MB 3.5MB/s eta 0:00:01\r\u001b[K     |████████████████▍               | 1.5MB 3.5MB/s eta 0:00:01\r\u001b[K     |████████████████▌               | 1.5MB 3.5MB/s eta 0:00:01\r\u001b[K     |████████████████▋               | 1.5MB 3.5MB/s eta 0:00:01\r\u001b[K     |████████████████▊               | 1.5MB 3.5MB/s eta 0:00:01\r\u001b[K     |████████████████▉               | 1.6MB 3.5MB/s eta 0:00:01\r\u001b[K     |█████████████████               | 1.6MB 3.5MB/s eta 0:00:01\r\u001b[K     |█████████████████               | 1.6MB 3.5MB/s eta 0:00:01\r\u001b[K     |█████████████████▏              | 1.6MB 3.5MB/s eta 0:00:01\r\u001b[K     |█████████████████▎              | 1.6MB 3.5MB/s eta 0:00:01\r\u001b[K     |█████████████████▍              | 1.6MB 3.5MB/s eta 0:00:01\r\u001b[K     |█████████████████▌              | 1.6MB 3.5MB/s eta 0:00:01\r\u001b[K     |█████████████████▋              | 1.6MB 3.5MB/s eta 0:00:01\r\u001b[K     |█████████████████▋              | 1.6MB 3.5MB/s eta 0:00:01\r\u001b[K     |█████████████████▊              | 1.6MB 3.5MB/s eta 0:00:01\r\u001b[K     |█████████████████▉              | 1.7MB 3.5MB/s eta 0:00:01\r\u001b[K     |██████████████████              | 1.7MB 3.5MB/s eta 0:00:01\r\u001b[K     |██████████████████              | 1.7MB 3.5MB/s eta 0:00:01\r\u001b[K     |██████████████████▏             | 1.7MB 3.5MB/s eta 0:00:01\r\u001b[K     |██████████████████▎             | 1.7MB 3.5MB/s eta 0:00:01\r\u001b[K     |██████████████████▍             | 1.7MB 3.5MB/s eta 0:00:01\r\u001b[K     |██████████████████▌             | 1.7MB 3.5MB/s eta 0:00:01\r\u001b[K     |██████████████████▋             | 1.7MB 3.5MB/s eta 0:00:01\r\u001b[K     |██████████████████▊             | 1.7MB 3.5MB/s eta 0:00:01\r\u001b[K     |██████████████████▉             | 1.8MB 3.5MB/s eta 0:00:01\r\u001b[K     |███████████████████             | 1.8MB 3.5MB/s eta 0:00:01\r\u001b[K     |███████████████████             | 1.8MB 3.5MB/s eta 0:00:01\r\u001b[K     |███████████████████▏            | 1.8MB 3.5MB/s eta 0:00:01\r\u001b[K     |███████████████████▎            | 1.8MB 3.5MB/s eta 0:00:01\r\u001b[K     |███████████████████▍            | 1.8MB 3.5MB/s eta 0:00:01\r\u001b[K     |███████████████████▌            | 1.8MB 3.5MB/s eta 0:00:01\r\u001b[K     |███████████████████▋            | 1.8MB 3.5MB/s eta 0:00:01\r\u001b[K     |███████████████████▊            | 1.8MB 3.5MB/s eta 0:00:01\r\u001b[K     |███████████████████▉            | 1.8MB 3.5MB/s eta 0:00:01\r\u001b[K     |████████████████████            | 1.9MB 3.5MB/s eta 0:00:01\r\u001b[K     |████████████████████            | 1.9MB 3.5MB/s eta 0:00:01\r\u001b[K     |████████████████████▏           | 1.9MB 3.5MB/s eta 0:00:01\r\u001b[K     |████████████████████▎           | 1.9MB 3.5MB/s eta 0:00:01\r\u001b[K     |████████████████████▍           | 1.9MB 3.5MB/s eta 0:00:01\r\u001b[K     |████████████████████▌           | 1.9MB 3.5MB/s eta 0:00:01\r\u001b[K     |████████████████████▋           | 1.9MB 3.5MB/s eta 0:00:01\r\u001b[K     |████████████████████▊           | 1.9MB 3.5MB/s eta 0:00:01\r\u001b[K     |████████████████████▉           | 1.9MB 3.5MB/s eta 0:00:01\r\u001b[K     |█████████████████████           | 1.9MB 3.5MB/s eta 0:00:01\r\u001b[K     |█████████████████████           | 2.0MB 3.5MB/s eta 0:00:01\r\u001b[K     |█████████████████████▏          | 2.0MB 3.5MB/s eta 0:00:01\r\u001b[K     |█████████████████████▎          | 2.0MB 3.5MB/s eta 0:00:01\r\u001b[K     |█████████████████████▍          | 2.0MB 3.5MB/s eta 0:00:01\r\u001b[K     |█████████████████████▌          | 2.0MB 3.5MB/s eta 0:00:01\r\u001b[K     |█████████████████████▋          | 2.0MB 3.5MB/s eta 0:00:01\r\u001b[K     |█████████████████████▊          | 2.0MB 3.5MB/s eta 0:00:01\r\u001b[K     |█████████████████████▉          | 2.0MB 3.5MB/s eta 0:00:01\r\u001b[K     |██████████████████████          | 2.0MB 3.5MB/s eta 0:00:01\r\u001b[K     |██████████████████████          | 2.0MB 3.5MB/s eta 0:00:01\r\u001b[K     |██████████████████████▏         | 2.1MB 3.5MB/s eta 0:00:01\r\u001b[K     |██████████████████████▎         | 2.1MB 3.5MB/s eta 0:00:01\r\u001b[K     |██████████████████████▍         | 2.1MB 3.5MB/s eta 0:00:01\r\u001b[K     |██████████████████████▌         | 2.1MB 3.5MB/s eta 0:00:01\r\u001b[K     |██████████████████████▋         | 2.1MB 3.5MB/s eta 0:00:01\r\u001b[K     |██████████████████████▊         | 2.1MB 3.5MB/s eta 0:00:01\r\u001b[K     |██████████████████████▉         | 2.1MB 3.5MB/s eta 0:00:01\r\u001b[K     |███████████████████████         | 2.1MB 3.5MB/s eta 0:00:01\r\u001b[K     |███████████████████████         | 2.1MB 3.5MB/s eta 0:00:01\r\u001b[K     |███████████████████████▏        | 2.2MB 3.5MB/s eta 0:00:01\r\u001b[K     |███████████████████████▎        | 2.2MB 3.5MB/s eta 0:00:01\r\u001b[K     |███████████████████████▍        | 2.2MB 3.5MB/s eta 0:00:01\r\u001b[K     |███████████████████████▌        | 2.2MB 3.5MB/s eta 0:00:01\r\u001b[K     |███████████████████████▋        | 2.2MB 3.5MB/s eta 0:00:01\r\u001b[K     |███████████████████████▊        | 2.2MB 3.5MB/s eta 0:00:01\r\u001b[K     |███████████████████████▉        | 2.2MB 3.5MB/s eta 0:00:01\r\u001b[K     |████████████████████████        | 2.2MB 3.5MB/s eta 0:00:01\r\u001b[K     |████████████████████████        | 2.2MB 3.5MB/s eta 0:00:01\r\u001b[K     |████████████████████████▏       | 2.2MB 3.5MB/s eta 0:00:01\r\u001b[K     |████████████████████████▎       | 2.3MB 3.5MB/s eta 0:00:01\r\u001b[K     |████████████████████████▍       | 2.3MB 3.5MB/s eta 0:00:01\r\u001b[K     |████████████████████████▌       | 2.3MB 3.5MB/s eta 0:00:01\r\u001b[K     |████████████████████████▋       | 2.3MB 3.5MB/s eta 0:00:01\r\u001b[K     |████████████████████████▊       | 2.3MB 3.5MB/s eta 0:00:01\r\u001b[K     |████████████████████████▉       | 2.3MB 3.5MB/s eta 0:00:01\r\u001b[K     |█████████████████████████       | 2.3MB 3.5MB/s eta 0:00:01\r\u001b[K     |█████████████████████████       | 2.3MB 3.5MB/s eta 0:00:01\r\u001b[K     |█████████████████████████▏      | 2.3MB 3.5MB/s eta 0:00:01\r\u001b[K     |█████████████████████████▎      | 2.3MB 3.5MB/s eta 0:00:01\r\u001b[K     |█████████████████████████▍      | 2.4MB 3.5MB/s eta 0:00:01\r\u001b[K     |█████████████████████████▌      | 2.4MB 3.5MB/s eta 0:00:01\r\u001b[K     |█████████████████████████▋      | 2.4MB 3.5MB/s eta 0:00:01\r\u001b[K     |█████████████████████████▊      | 2.4MB 3.5MB/s eta 0:00:01\r\u001b[K     |█████████████████████████▉      | 2.4MB 3.5MB/s eta 0:00:01\r\u001b[K     |██████████████████████████      | 2.4MB 3.5MB/s eta 0:00:01\r\u001b[K     |██████████████████████████      | 2.4MB 3.5MB/s eta 0:00:01\r\u001b[K     |██████████████████████████▏     | 2.4MB 3.5MB/s eta 0:00:01\r\u001b[K     |██████████████████████████▎     | 2.4MB 3.5MB/s eta 0:00:01\r\u001b[K     |██████████████████████████▍     | 2.4MB 3.5MB/s eta 0:00:01\r\u001b[K     |██████████████████████████▌     | 2.5MB 3.5MB/s eta 0:00:01\r\u001b[K     |██████████████████████████▋     | 2.5MB 3.5MB/s eta 0:00:01\r\u001b[K     |██████████████████████████▊     | 2.5MB 3.5MB/s eta 0:00:01\r\u001b[K     |██████████████████████████▉     | 2.5MB 3.5MB/s eta 0:00:01\r\u001b[K     |███████████████████████████     | 2.5MB 3.5MB/s eta 0:00:01\r\u001b[K     |███████████████████████████     | 2.5MB 3.5MB/s eta 0:00:01\r\u001b[K     |███████████████████████████▏    | 2.5MB 3.5MB/s eta 0:00:01\r\u001b[K     |███████████████████████████▎    | 2.5MB 3.5MB/s eta 0:00:01\r\u001b[K     |███████████████████████████▍    | 2.5MB 3.5MB/s eta 0:00:01\r\u001b[K     |███████████████████████████▌    | 2.5MB 3.5MB/s eta 0:00:01\r\u001b[K     |███████████████████████████▋    | 2.6MB 3.5MB/s eta 0:00:01\r\u001b[K     |███████████████████████████▊    | 2.6MB 3.5MB/s eta 0:00:01\r\u001b[K     |███████████████████████████▉    | 2.6MB 3.5MB/s eta 0:00:01\r\u001b[K     |████████████████████████████    | 2.6MB 3.5MB/s eta 0:00:01\r\u001b[K     |████████████████████████████    | 2.6MB 3.5MB/s eta 0:00:01\r\u001b[K     |████████████████████████████▏   | 2.6MB 3.5MB/s eta 0:00:01\r\u001b[K     |████████████████████████████▎   | 2.6MB 3.5MB/s eta 0:00:01\r\u001b[K     |████████████████████████████▍   | 2.6MB 3.5MB/s eta 0:00:01\r\u001b[K     |████████████████████████████▌   | 2.6MB 3.5MB/s eta 0:00:01\r\u001b[K     |████████████████████████████▋   | 2.7MB 3.5MB/s eta 0:00:01\r\u001b[K     |████████████████████████████▊   | 2.7MB 3.5MB/s eta 0:00:01\r\u001b[K     |████████████████████████████▉   | 2.7MB 3.5MB/s eta 0:00:01\r\u001b[K     |█████████████████████████████   | 2.7MB 3.5MB/s eta 0:00:01\r\u001b[K     |█████████████████████████████   | 2.7MB 3.5MB/s eta 0:00:01\r\u001b[K     |█████████████████████████████▏  | 2.7MB 3.5MB/s eta 0:00:01\r\u001b[K     |█████████████████████████████▎  | 2.7MB 3.5MB/s eta 0:00:01\r\u001b[K     |█████████████████████████████▍  | 2.7MB 3.5MB/s eta 0:00:01\r\u001b[K     |█████████████████████████████▌  | 2.7MB 3.5MB/s eta 0:00:01\r\u001b[K     |█████████████████████████████▋  | 2.7MB 3.5MB/s eta 0:00:01\r\u001b[K     |█████████████████████████████▊  | 2.8MB 3.5MB/s eta 0:00:01\r\u001b[K     |█████████████████████████████▉  | 2.8MB 3.5MB/s eta 0:00:01\r\u001b[K     |██████████████████████████████  | 2.8MB 3.5MB/s eta 0:00:01\r\u001b[K     |██████████████████████████████  | 2.8MB 3.5MB/s eta 0:00:01\r\u001b[K     |██████████████████████████████▏ | 2.8MB 3.5MB/s eta 0:00:01\r\u001b[K     |██████████████████████████████▎ | 2.8MB 3.5MB/s eta 0:00:01\r\u001b[K     |██████████████████████████████▍ | 2.8MB 3.5MB/s eta 0:00:01\r\u001b[K     |██████████████████████████████▌ | 2.8MB 3.5MB/s eta 0:00:01\r\u001b[K     |██████████████████████████████▋ | 2.8MB 3.5MB/s eta 0:00:01\r\u001b[K     |██████████████████████████████▊ | 2.8MB 3.5MB/s eta 0:00:01\r\u001b[K     |██████████████████████████████▉ | 2.9MB 3.5MB/s eta 0:00:01\r\u001b[K     |███████████████████████████████ | 2.9MB 3.5MB/s eta 0:00:01\r\u001b[K     |███████████████████████████████ | 2.9MB 3.5MB/s eta 0:00:01\r\u001b[K     |███████████████████████████████▏| 2.9MB 3.5MB/s eta 0:00:01\r\u001b[K     |███████████████████████████████▎| 2.9MB 3.5MB/s eta 0:00:01\r\u001b[K     |███████████████████████████████▍| 2.9MB 3.5MB/s eta 0:00:01\r\u001b[K     |███████████████████████████████▌| 2.9MB 3.5MB/s eta 0:00:01\r\u001b[K     |███████████████████████████████▋| 2.9MB 3.5MB/s eta 0:00:01\r\u001b[K     |███████████████████████████████▊| 2.9MB 3.5MB/s eta 0:00:01\r\u001b[K     |███████████████████████████████▉| 2.9MB 3.5MB/s eta 0:00:01\r\u001b[K     |████████████████████████████████| 3.0MB 3.5MB/s eta 0:00:01\r\u001b[K     |████████████████████████████████| 3.0MB 3.5MB/s \n",
            "\u001b[?25hRequirement already satisfied: numpy>=1.14.0 in /usr/local/lib/python3.6/dist-packages (from dgl) (1.18.4)\n",
            "Requirement already satisfied: requests>=2.19.0 in /usr/local/lib/python3.6/dist-packages (from dgl) (2.23.0)\n",
            "Requirement already satisfied: networkx>=2.1 in /usr/local/lib/python3.6/dist-packages (from dgl) (2.4)\n",
            "Requirement already satisfied: scipy>=1.1.0 in /usr/local/lib/python3.6/dist-packages (from dgl) (1.4.1)\n",
            "Requirement already satisfied: urllib3!=1.25.0,!=1.25.1,<1.26,>=1.21.1 in /usr/local/lib/python3.6/dist-packages (from requests>=2.19.0->dgl) (1.24.3)\n",
            "Requirement already satisfied: certifi>=2017.4.17 in /usr/local/lib/python3.6/dist-packages (from requests>=2.19.0->dgl) (2020.4.5.1)\n",
            "Requirement already satisfied: chardet<4,>=3.0.2 in /usr/local/lib/python3.6/dist-packages (from requests>=2.19.0->dgl) (3.0.4)\n",
            "Requirement already satisfied: idna<3,>=2.5 in /usr/local/lib/python3.6/dist-packages (from requests>=2.19.0->dgl) (2.9)\n",
            "Requirement already satisfied: decorator>=4.3.0 in /usr/local/lib/python3.6/dist-packages (from networkx>=2.1->dgl) (4.4.2)\n",
            "Installing collected packages: dgl\n",
            "Successfully installed dgl-0.4.3.post2\n"
          ],
          "name": "stdout"
        }
      ]
    },
    {
      "cell_type": "code",
      "metadata": {
        "id": "OtiyF1lNAAzQ",
        "colab_type": "code",
        "colab": {}
      },
      "source": [
        "import networkx as nx # Networkx to load the graph\n",
        "import torch as th # Pytorch as background of dg1\n",
        "import dgl # Import dg1 to perform GCN\n",
        "import dgl.function as fn # Function of dg1 to perform message reduce\n",
        "import numpy as np # Import numpy for array \n",
        "import torch.nn as nn # Create pytorch module\n",
        "import torch.nn.functional as F # Import relu\n",
        "from tqdm import tqdm_notebook as tqdm # Tqdm to see the progress\n",
        "import plotly.graph_objects as go # Use plotly to plot the graph\n",
        "import pandas as pd # Use pandas to import data from csv\n",
        "from math import log10 as log # Import log from math \n",
        "from sklearn.model_selection import train_test_split,StratifiedShuffleSplit # Sklearn model train and test split\n",
        "from sklearn.metrics import precision_score,recall_score,f1_score,confusion_matrix,accuracy_score # Print output values\n",
        "import matplotlib.pyplot as plt # plot the matplotlib graph\n",
        "import seaborn as sns # Plot confusion matrix"
      ],
      "execution_count": 0,
      "outputs": []
    },
    {
      "cell_type": "code",
      "metadata": {
        "id": "2PaMAqmLF-xd",
        "colab_type": "code",
        "outputId": "6723d577-f224-41c1-bccf-f5d49202608b",
        "colab": {
          "base_uri": "https://localhost:8080/",
          "height": 126
        }
      },
      "source": [
        "from google.colab import drive\n",
        "drive.mount('/content/drive/')"
      ],
      "execution_count": 0,
      "outputs": [
        {
          "output_type": "stream",
          "text": [
            "Go to this URL in a browser: https://accounts.google.com/o/oauth2/auth?client_id=947318989803-6bn6qk8qdgf4n4g3pfee6491hc0brc4i.apps.googleusercontent.com&redirect_uri=urn%3aietf%3awg%3aoauth%3a2.0%3aoob&response_type=code&scope=email%20https%3a%2f%2fwww.googleapis.com%2fauth%2fdocs.test%20https%3a%2f%2fwww.googleapis.com%2fauth%2fdrive%20https%3a%2f%2fwww.googleapis.com%2fauth%2fdrive.photos.readonly%20https%3a%2f%2fwww.googleapis.com%2fauth%2fpeopleapi.readonly\n",
            "\n",
            "Enter your authorization code:\n",
            "··········\n",
            "Mounted at /content/drive/\n"
          ],
          "name": "stdout"
        }
      ]
    },
    {
      "cell_type": "code",
      "metadata": {
        "id": "bATSCzNDAz8M",
        "colab_type": "code",
        "colab": {}
      },
      "source": [
        "dataframe = pd.read_csv(\"/content/drive/My Drive/Retweet-Data+Sentiment.csv\") # Import the data\n",
        "edgeData = dataframe[[\"FollowerId\",\"FolloweeId\"]] # Get the edge data \n",
        "edgeList = [(row[\"FollowerId\"],row[\"FolloweeId\"]) for index,row in edgeData.iterrows()] # Create edge list"
      ],
      "execution_count": 0,
      "outputs": []
    },
    {
      "cell_type": "code",
      "metadata": {
        "id": "Mzet5wiaHKZi",
        "colab_type": "code",
        "colab": {}
      },
      "source": [
        ""
      ],
      "execution_count": 0,
      "outputs": []
    },
    {
      "cell_type": "code",
      "metadata": {
        "id": "aS_QgC3OO99j",
        "colab_type": "code",
        "colab": {}
      },
      "source": [
        "nodes = list(set(list(((np.array(edgeList)).flatten())))) # Nodes in the graph \n",
        "notImportantNodes = set(list(np.array(edgeList)[:,0]))- set(list(np.array(edgeList)[:,1])) # Nodes for which important nodes are not present"
      ],
      "execution_count": 0,
      "outputs": []
    },
    {
      "cell_type": "code",
      "metadata": {
        "id": "C7rZfQzjPOLM",
        "colab_type": "code",
        "colab": {}
      },
      "source": [
        "directedGraph = nx.DiGraph() # Create a directed graph\n",
        "directedGraph.add_nodes_from(nodes) # Add nodes to graph\n",
        "directedGraph.add_edges_from(edgeList) # Add edges to graph\n",
        "directedGraph.remove_nodes_from(notImportantNodes) # Get all the non important nodes"
      ],
      "execution_count": 0,
      "outputs": []
    },
    {
      "cell_type": "code",
      "metadata": {
        "id": "i7KbllYOfali",
        "colab_type": "code",
        "colab": {}
      },
      "source": [
        "newGraph = nx.convert_node_labels_to_integers(directedGraph,ordering=\"sorted\") # Change node label to numberes"
      ],
      "execution_count": 0,
      "outputs": []
    },
    {
      "cell_type": "code",
      "metadata": {
        "id": "fZz9oKrGo3rG",
        "colab_type": "code",
        "colab": {}
      },
      "source": [
        "followeeData = (dataframe[[\"FolloweeId\",\"No-Of-Followers\",\"No-Of-Friends\",\"Retweet-Count\",\"Likes\"]].groupby(\"FolloweeId\").max()) # Get nodes features data\n",
        "followeeData[\"No-Of-Friends\"] = 1/(followeeData[\"No-Of-Friends\"]+1) # Inverse of friends as features\n",
        "followeeData[\"FFRatio\"] = followeeData[\"No-Of-Friends\"]*followeeData[\"No-Of-Followers\"] # Follower and friend ratio \n",
        "followeeData[\"FFRatio\"] = followeeData[\"FFRatio\"]/followeeData[\"FFRatio\"].max() # Get follower followee ratio between 1 and 0\n",
        "followeeData[\"No-Of-Followers\"] = followeeData[\"No-Of-Followers\"]/followeeData[\"No-Of-Followers\"].max() # Get no of followers between 0 and 1\n",
        "followeeData[\"Retweet-Count\"] = followeeData[\"Retweet-Count\"]/followeeData[\"Retweet-Count\"].max() # Get retweet count between 0 and 1\n",
        "followeeData[\"Likes\"] = followeeData[\"Likes\"]/followeeData[\"Likes\"].max() # Get likes count between 0 and 1\n",
        "followeeData = followeeData.sort_index() # Sort the data based on followee id to match with the nodes from the new graph"
      ],
      "execution_count": 0,
      "outputs": []
    },
    {
      "cell_type": "code",
      "metadata": {
        "id": "qYnRvStEAWzQ",
        "colab_type": "code",
        "colab": {}
      },
      "source": [
        "features = followeeData.to_numpy() # Convert nodes features to numpy \n",
        "y = features.astype(np.float32) # Set features type as float 32 as dgl library for now only supports float 32\n",
        "correctLabel = [0,0,1,0,0,0,0,0,0,0,0,0,0,0,1,0,0,1,1,0,0,0,0,0,0,0,0,0,0,0,0,0,1,0,0,1,0,0,0,0,0,1,0,0,1,1,0,1,0,0\n",
        "               ,0,0,0,0,0,0,0,0,1,1,0,1,1,0,0,0,0,0,0,0,1,0,0,1,0,0,0,0,0,0,0,0,0,0,0,0,0,0,0,1,0,1,0,0,1,0,0,0,1,0\n",
        "               ,1,0,0,0,1,0,0,0,0,0,0,0,0,0,1,0,0,0,1,0,0,0,0,0,1,0,1,0,0,0,0,0,0,0,1,0,0,0,0,1,0,0,0,1,0,0,0,0,0,0\n",
        "               ,0,0,0,0,0,0,0,1,0,0,0,0,0,0,0,0,0,0,0,0,0,0,0,0,0,0,1,0,0,0,0,0,0,0,1,0,0,0,1,0,0,0,0,0,0,0,0,0,0,0] # Truth label"
      ],
      "execution_count": 0,
      "outputs": []
    },
    {
      "cell_type": "code",
      "metadata": {
        "id": "HgiheOE8kaxJ",
        "colab_type": "code",
        "colab": {}
      },
      "source": [
        "x_train,x_test,y_train,y_test = train_test_split(list(range(200)), correctLabel, test_size=0.3,random_state=2) # train and test for sklearn"
      ],
      "execution_count": 0,
      "outputs": []
    },
    {
      "cell_type": "code",
      "metadata": {
        "id": "qwwE2YKH_zcn",
        "colab_type": "code",
        "colab": {}
      },
      "source": [
        "class Layer(nn.Module): # Create a layer in the dgl using pytoarch as the background\n",
        "    def __init__(self, input, output): # Initialize the layer input and output\n",
        "        super(Layer, self).__init__() # Call the parent implemenataionof module\n",
        "        self.linear = nn.Linear(input, output) # Create a linear layer\n",
        "        self.message = fn.copy_src(src='h', out='m') # Message function does only forward the features \n",
        "        self.reduce = fn.sum(msg='m', out='h') # Reduce function sum the features from his neighbour\n",
        "        \n",
        "    def forward(self,graph,feature): # Forward the features to the neighbours\n",
        "        with graph.local_scope(): # Local scope ensures that the\n",
        "            graph.ndata['h'] = feature # Set features for the nodes\n",
        "            graph.update_all(self.message, self.reduce) # Update will update the feature for all nodes\n",
        "            newFeatures = graph.ndata['h']  # This will return the updated features\n",
        "            return self.linear(newFeatures) # return the features"
      ],
      "execution_count": 0,
      "outputs": []
    },
    {
      "cell_type": "code",
      "metadata": {
        "id": "HBSNXZDi_4KV",
        "colab_type": "code",
        "colab": {}
      },
      "source": [
        "class GCN2Layer(nn.Module): # Create layer for each node\n",
        "    def __init__(self): #Initialize layer for eahc node\n",
        "        super(GCN2Layer, self).__init__() # Call the supper for this layer\n",
        "        self.gcn1 = Layer(5, 16) # Convert the dense input to 16 embedding \n",
        "        self.gcn2 = Layer(16, 2) # Convert this embedding to 2 influencer or not\n",
        "\n",
        "    def forward(self, g, features): # This will update feature for each nodes\n",
        "        x = F.relu(self.gcn1(g, features)) # Pass output of first layer from relu \n",
        "        x = self.gcn2(g, x) # send the output of second layer as output\n",
        "        return x # Return the output"
      ],
      "execution_count": 0,
      "outputs": []
    },
    {
      "cell_type": "code",
      "metadata": {
        "id": "E6uv4GSZAjAw",
        "colab_type": "code",
        "outputId": "e0d4d802-4679-4d96-8b00-4d9178636f20",
        "colab": {
          "base_uri": "https://localhost:8080/",
          "height": 88
        }
      },
      "source": [
        "network = GCN2Layer() # Create the neural network\n",
        "optimizer = th.optim.Adam(network.parameters(), lr=0.01) # Use adam as the neural net optimizer\n",
        "followerGraph = dgl.DGLGraph(newGraph) # Create a dgl graph on which neural net is gonna run\n",
        "# features = th.cat((th.eye(3356),th.tensor(y)),dim=1) # Concatenate features to end to get a new feature vector\n",
        "features = th.tensor(y)\n",
        "precision = []\n",
        "recall = []\n",
        "accuracy = []\n",
        "f1_score1 = []\n",
        "truthValues = (th.tensor(np.array(y_train))).view(-1).long() # Create a correct label for training tensor\n",
        "\n",
        "for epoch in range(100): # Train network for number of epoches\n",
        "    network.train() # Train the neural net\n",
        "    answer = network(followerGraph, features) # Get label output from neural network\n",
        "    softmaxAnswer = F.log_softmax(answer, 1) # Apply softmax to convert it into probability\n",
        "    loss = F.nll_loss(softmaxAnswer[x_train], truthValues) # Calculate loss from ground truth\n",
        "    optimizer.zero_grad() # Reinitialize gradient to zero\n",
        "    loss.backward() # Backward propogration\n",
        "    optimizer.step() # Step optimizer to new values\n",
        "    finalAnswer = th.argmax(softmaxAnswer,dim=1) # Find the probable influence people based on probability\n",
        "    answer = finalAnswer[x_test].detach().numpy() # Get numpy array\n",
        "    precision += [precision_score(y_test,answer,average=\"macro\")]\n",
        "    recall += [recall_score(y_test,answer,average=\"macro\")]\n",
        "    f1_score1 += [f1_score(y_test,answer,average=\"macro\")]\n",
        "    accuracy += [accuracy_score(y_test,answer)]"
      ],
      "execution_count": 0,
      "outputs": [
        {
          "output_type": "stream",
          "text": [
            "/usr/local/lib/python3.6/dist-packages/sklearn/metrics/_classification.py:1272: UndefinedMetricWarning:\n",
            "\n",
            "Precision is ill-defined and being set to 0.0 in labels with no predicted samples. Use `zero_division` parameter to control this behavior.\n",
            "\n"
          ],
          "name": "stderr"
        }
      ]
    },
    {
      "cell_type": "code",
      "metadata": {
        "id": "BLnFUNJaeKG0",
        "colab_type": "code",
        "colab": {}
      },
      "source": [
        "answer = finalAnswer[x_test].detach().numpy() # Get numpy array"
      ],
      "execution_count": 0,
      "outputs": []
    },
    {
      "cell_type": "code",
      "metadata": {
        "id": "z1i_QxfTpf2f",
        "colab_type": "code",
        "outputId": "145a710a-084d-424b-fbde-3fe9bbb627dc",
        "colab": {
          "base_uri": "https://localhost:8080/",
          "height": 52
        }
      },
      "source": [
        "# Printing macro and micro precision\n",
        "print(\"Precision score macro : \",precision_score(y_test,answer,average=\"macro\")) \n",
        "print(\"Precision score micro : \",precision_score(y_test,answer,average=\"micro\"))"
      ],
      "execution_count": 0,
      "outputs": [
        {
          "output_type": "stream",
          "text": [
            "Precision score macro :  0.9622641509433962\n",
            "Precision score micro :  0.9333333333333333\n"
          ],
          "name": "stdout"
        }
      ]
    },
    {
      "cell_type": "code",
      "metadata": {
        "id": "LS0vw7RepiKS",
        "colab_type": "code",
        "outputId": "71223170-fd22-4f69-fa1b-389bba644dfc",
        "colab": {
          "base_uri": "https://localhost:8080/",
          "height": 52
        }
      },
      "source": [
        "# Printing macro and micro recall\n",
        "print(\"Recall score macro : \",recall_score(y_test,answer,average=\"macro\"))\n",
        "print(\"Recall score micro : \",recall_score(y_test,answer,average=\"micro\"))"
      ],
      "execution_count": 0,
      "outputs": [
        {
          "output_type": "stream",
          "text": [
            "Recall score macro :  0.8181818181818181\n",
            "Recall score micro :  0.9333333333333333\n"
          ],
          "name": "stdout"
        }
      ]
    },
    {
      "cell_type": "code",
      "metadata": {
        "id": "U95QLyayrGLi",
        "colab_type": "code",
        "outputId": "dcd8b858-501c-414c-de67-bb9056c74672",
        "colab": {
          "base_uri": "https://localhost:8080/",
          "height": 52
        }
      },
      "source": [
        "# Printing macro and micro f1_score\n",
        "print(\"F1 score macro : \",f1_score(y_test,answer,average=\"macro\"))\n",
        "print(\"F1 score micro : \",f1_score(y_test,answer,average=\"micro\"))"
      ],
      "execution_count": 0,
      "outputs": [
        {
          "output_type": "stream",
          "text": [
            "F1 score macro :  0.869281045751634\n",
            "F1 score micro :  0.9333333333333333\n"
          ],
          "name": "stdout"
        }
      ]
    },
    {
      "cell_type": "code",
      "metadata": {
        "id": "K7k_UOsnrN5M",
        "colab_type": "code",
        "outputId": "6b66232a-af52-4cd4-a978-b9a520591143",
        "colab": {
          "base_uri": "https://localhost:8080/",
          "height": 283
        }
      },
      "source": [
        "# Printing confusion matrix\n",
        "sns.heatmap(confusion_matrix(y_test,answer), annot=True,cmap='Blues')"
      ],
      "execution_count": 0,
      "outputs": [
        {
          "output_type": "execute_result",
          "data": {
            "text/plain": [
              "<matplotlib.axes._subplots.AxesSubplot at 0x7f8b17231c88>"
            ]
          },
          "metadata": {
            "tags": []
          },
          "execution_count": 102
        },
        {
          "output_type": "display_data",
          "data": {
            "image/png": "[encoded data removed]",
            "text/plain": [
              "<Figure size 432x288 with 2 Axes>"
            ]
          },
          "metadata": {
            "tags": [],
            "needs_background": "light"
          }
        }
      ]
    },
    {
      "cell_type": "code",
      "metadata": {
        "id": "ylZ1J0JOi482",
        "colab_type": "code",
        "outputId": "ce91f24b-f70f-417f-afef-8255ba7edb84",
        "colab": {
          "base_uri": "https://localhost:8080/",
          "height": 295
        }
      },
      "source": [
        "plt.plot(list(range(100)),precision,label=\"Precision\")\n",
        "plt.plot(list(range(100)),recall,label=\"Recall\")\n",
        "plt.plot(list(range(100)),accuracy,label=\"Accuracy\")\n",
        "plt.title(\"Performance vs Epochs\")\n",
        "plt.xlabel(\"Epochs\")\n",
        "plt.ylabel(\"Value\")\n",
        "plt.legend()\n",
        "plt.show()"
      ],
      "execution_count": 0,
      "outputs": [
        {
          "output_type": "display_data",
          "data": {
            "image/png": "[encoded data removed]",
            "text/plain": [
              "<Figure size 432x288 with 1 Axes>"
            ]
          },
          "metadata": {
            "tags": [],
            "needs_background": "light"
          }
        }
      ]
    },
    {
      "cell_type": "code",
      "metadata": {
        "id": "ANV4g1TAkId2",
        "colab_type": "code",
        "colab": {}
      },
      "source": [
        ""
      ],
      "execution_count": 0,
      "outputs": []
    }
  ]
}