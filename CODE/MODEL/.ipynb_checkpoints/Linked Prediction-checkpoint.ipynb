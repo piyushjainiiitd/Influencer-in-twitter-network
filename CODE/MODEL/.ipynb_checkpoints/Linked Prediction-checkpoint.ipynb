{
 "cells": [
  {
   "cell_type": "code",
   "execution_count": 72,
   "metadata": {},
   "outputs": [],
   "source": [
    "# Code to find link prediction such that given a user and it followers and previous tweets what it the next probable retweet\n",
    "\n",
    "import csv # Impot csv to read data from csv\n",
    "import pandas as pd # Use pandas to read data from csv\n",
    "import numpy as np # Create a numpy array\n",
    "import networkx as nx # Use networkx to create graphs\n",
    "from sklearn.model_selection import train_test_split\n",
    "from tqdm import tqdm_notebook as tqdm # Use tqdm to see the progress\n",
    "from math import log10 as log # Use log to get the log of value\n",
    "from sklearn.metrics import accuracy_score # Get the metrices\n",
    "import time # \n",
    "import matplotlib.pyplot as plt"
   ]
  },
  {
   "cell_type": "code",
   "execution_count": 2,
   "metadata": {},
   "outputs": [],
   "source": [
    "dataframe = pd.read_csv(\"Retweet-Data+Sentiment.csv\") # Load data from csv\n",
    "edgeData = dataframe[[\"FollowerId\",\"FolloweeId\"]] # Create a graph of follower and followee\n",
    "edgeData2 = dataframe[[\"FollowerId\",\"Retweet-Time\",\"Tweet-Id\"]] # Create a graph of neigbour and tweet\n",
    "tweetData = dataframe[[\"Tweet-Id\",\"FolloweeId\",\"No-Of-Followers\",\"No-Of-Friends\",\"Retweet-Count\",\"Tweet-Time\",\"Likes\",\"Language\",\"Sentiment\"]] # Data about a tweet"
   ]
  },
  {
   "cell_type": "code",
   "execution_count": 3,
   "metadata": {},
   "outputs": [],
   "source": [
    "edgeList = [(row[\"FollowerId\"],row[\"FolloweeId\"]) for index,row in edgeData.iterrows()] # Create a edgelist for graph follower and followee\n",
    "edgeList2 = [(row[\"FollowerId\"],row[\"Retweet-Time\"],row[\"Tweet-Id\"]) for index,row in edgeData2.iterrows()] # Create a edgelist for graph followee and tweet"
   ]
  },
  {
   "cell_type": "code",
   "execution_count": 80,
   "metadata": {},
   "outputs": [
    {
     "ename": "ValueError",
     "evalue": "test_size=0 should be either positive and smaller than the number of samples 135011 or a float in the (0, 1) range",
     "output_type": "error",
     "traceback": [
      "\u001b[1;31m---------------------------------------------------------------------------\u001b[0m",
      "\u001b[1;31mValueError\u001b[0m                                Traceback (most recent call last)",
      "\u001b[1;32m<ipython-input-80-d0796692184b>\u001b[0m in \u001b[0;36m<module>\u001b[1;34m\u001b[0m\n\u001b[0;32m      4\u001b[0m \u001b[0medgesList2\u001b[0m \u001b[1;33m=\u001b[0m \u001b[0mnp\u001b[0m\u001b[1;33m.\u001b[0m\u001b[0marray\u001b[0m\u001b[1;33m(\u001b[0m\u001b[0medgeList2\u001b[0m\u001b[1;33m)\u001b[0m \u001b[1;31m# Convert edge list data to numpy array to be split\u001b[0m\u001b[1;33m\u001b[0m\u001b[1;33m\u001b[0m\u001b[0m\n\u001b[0;32m      5\u001b[0m \u001b[0mx_train\u001b[0m\u001b[1;33m,\u001b[0m \u001b[0mx_test\u001b[0m\u001b[1;33m,\u001b[0m \u001b[0my_train\u001b[0m\u001b[1;33m,\u001b[0m \u001b[0my_test\u001b[0m \u001b[1;33m=\u001b[0m \u001b[0mtrain_test_split\u001b[0m\u001b[1;33m(\u001b[0m\u001b[0medgesList2\u001b[0m\u001b[1;33m[\u001b[0m\u001b[1;33m:\u001b[0m\u001b[1;33m,\u001b[0m\u001b[1;36m0\u001b[0m\u001b[1;33m:\u001b[0m\u001b[1;36m2\u001b[0m\u001b[1;33m]\u001b[0m\u001b[1;33m,\u001b[0m \u001b[0medgesList2\u001b[0m\u001b[1;33m[\u001b[0m\u001b[1;33m:\u001b[0m\u001b[1;33m,\u001b[0m\u001b[1;36m2\u001b[0m\u001b[1;33m]\u001b[0m\u001b[1;33m.\u001b[0m\u001b[0mastype\u001b[0m\u001b[1;33m(\u001b[0m\u001b[0mnp\u001b[0m\u001b[1;33m.\u001b[0m\u001b[0mint64\u001b[0m\u001b[1;33m)\u001b[0m\u001b[1;33m,\u001b[0m \u001b[0mtest_size\u001b[0m\u001b[1;33m=\u001b[0m\u001b[1;36m0.001\u001b[0m\u001b[1;33m,\u001b[0m\u001b[0mrandom_state\u001b[0m\u001b[1;33m=\u001b[0m\u001b[1;36m2\u001b[0m\u001b[1;33m)\u001b[0m \u001b[1;31m# Get user tweet time and current correct tweet\u001b[0m\u001b[1;33m\u001b[0m\u001b[1;33m\u001b[0m\u001b[0m\n\u001b[1;32m----> 6\u001b[1;33m \u001b[0mx_train\u001b[0m\u001b[1;33m,\u001b[0m \u001b[0mtemp\u001b[0m\u001b[1;33m,\u001b[0m \u001b[0my_train\u001b[0m\u001b[1;33m,\u001b[0m \u001b[0mtemp\u001b[0m \u001b[1;33m=\u001b[0m \u001b[0mtrain_test_split\u001b[0m\u001b[1;33m(\u001b[0m\u001b[0mx_train\u001b[0m\u001b[1;33m,\u001b[0m \u001b[0my_train\u001b[0m\u001b[1;33m,\u001b[0m \u001b[0mtest_size\u001b[0m\u001b[1;33m=\u001b[0m\u001b[1;36m0\u001b[0m\u001b[1;33m)\u001b[0m\u001b[1;33m\u001b[0m\u001b[1;33m\u001b[0m\u001b[0m\n\u001b[0m\u001b[0;32m      7\u001b[0m \u001b[0medgeTrain\u001b[0m \u001b[1;33m=\u001b[0m \u001b[0mnp\u001b[0m\u001b[1;33m.\u001b[0m\u001b[0marray\u001b[0m\u001b[1;33m(\u001b[0m\u001b[0mlist\u001b[0m\u001b[1;33m(\u001b[0m\u001b[0mzip\u001b[0m\u001b[1;33m(\u001b[0m\u001b[0mx_train\u001b[0m\u001b[1;33m[\u001b[0m\u001b[1;33m:\u001b[0m\u001b[1;33m,\u001b[0m\u001b[1;36m0\u001b[0m\u001b[1;33m]\u001b[0m\u001b[1;33m.\u001b[0m\u001b[0mastype\u001b[0m\u001b[1;33m(\u001b[0m\u001b[0mnp\u001b[0m\u001b[1;33m.\u001b[0m\u001b[0mint64\u001b[0m\u001b[1;33m)\u001b[0m\u001b[1;33m,\u001b[0m\u001b[0my_train\u001b[0m\u001b[1;33m)\u001b[0m\u001b[1;33m)\u001b[0m\u001b[1;33m)\u001b[0m \u001b[1;31m# Get training edges only\u001b[0m\u001b[1;33m\u001b[0m\u001b[1;33m\u001b[0m\u001b[0m\n",
      "\u001b[1;32m~\\Anaconda3\\lib\\site-packages\\sklearn\\model_selection\\_split.py\u001b[0m in \u001b[0;36mtrain_test_split\u001b[1;34m(*arrays, **options)\u001b[0m\n\u001b[0;32m   2098\u001b[0m     \u001b[0mn_samples\u001b[0m \u001b[1;33m=\u001b[0m \u001b[0m_num_samples\u001b[0m\u001b[1;33m(\u001b[0m\u001b[0marrays\u001b[0m\u001b[1;33m[\u001b[0m\u001b[1;36m0\u001b[0m\u001b[1;33m]\u001b[0m\u001b[1;33m)\u001b[0m\u001b[1;33m\u001b[0m\u001b[1;33m\u001b[0m\u001b[0m\n\u001b[0;32m   2099\u001b[0m     n_train, n_test = _validate_shuffle_split(n_samples, test_size, train_size,\n\u001b[1;32m-> 2100\u001b[1;33m                                               default_test_size=0.25)\n\u001b[0m\u001b[0;32m   2101\u001b[0m \u001b[1;33m\u001b[0m\u001b[0m\n\u001b[0;32m   2102\u001b[0m     \u001b[1;32mif\u001b[0m \u001b[0mshuffle\u001b[0m \u001b[1;32mis\u001b[0m \u001b[1;32mFalse\u001b[0m\u001b[1;33m:\u001b[0m\u001b[1;33m\u001b[0m\u001b[1;33m\u001b[0m\u001b[0m\n",
      "\u001b[1;32m~\\Anaconda3\\lib\\site-packages\\sklearn\\model_selection\\_split.py\u001b[0m in \u001b[0;36m_validate_shuffle_split\u001b[1;34m(n_samples, test_size, train_size, default_test_size)\u001b[0m\n\u001b[0;32m   1732\u001b[0m         raise ValueError('test_size={0} should be either positive and smaller'\n\u001b[0;32m   1733\u001b[0m                          \u001b[1;34m' than the number of samples {1} or a float in the '\u001b[0m\u001b[1;33m\u001b[0m\u001b[1;33m\u001b[0m\u001b[0m\n\u001b[1;32m-> 1734\u001b[1;33m                          '(0, 1) range'.format(test_size, n_samples))\n\u001b[0m\u001b[0;32m   1735\u001b[0m \u001b[1;33m\u001b[0m\u001b[0m\n\u001b[0;32m   1736\u001b[0m     if (train_size_type == 'i' and (train_size >= n_samples or train_size <= 0)\n",
      "\u001b[1;31mValueError\u001b[0m: test_size=0 should be either positive and smaller than the number of samples 135011 or a float in the (0, 1) range"
     ]
    }
   ],
   "source": [
    "nodes = list(set(list((np.array(edgeList)).flatten()))) # Create nodes of graph 1\n",
    "nodes2 = list(set(list(((np.array(edgeList2))[:,[0,2]]).astype(np.int64).flatten()))) # Create nodes of graph 2\n",
    "\n",
    "edgesList2 = np.array(edgeList2) # Convert edge list data to numpy array to be split\n",
    "x_train, x_test, y_train, y_test = train_test_split(edgesList2[:,0:2], edgesList2[:,2].astype(np.int64), test_size=0.001,random_state=2) # Get user tweet time and current correct tweet\n",
    "x_train, temp, y_train, temp = train_test_split(x_train, y_train, test_size=0.001) \n",
    "edgeTrain = np.array(list(zip(x_train[:,0].astype(np.int64),y_train))) # Get training edges only"
   ]
  },
  {
   "cell_type": "code",
   "execution_count": 66,
   "metadata": {},
   "outputs": [],
   "source": [
    "tweetData = tweetData.groupby([\"Tweet-Id\"]).max() # Tweet data take max to get the latest data related to the tweet"
   ]
  },
  {
   "cell_type": "code",
   "execution_count": 67,
   "metadata": {},
   "outputs": [],
   "source": [
    "directedGraph = nx.DiGraph() # Create a follower followee di graph\n",
    "directedGraph.add_nodes_from(nodes) # Add nodes to the graph\n",
    "directedGraph.add_edges_from(edgeList) # Add edges to the graph\n",
    "\n",
    "directedGraph2 = nx.DiGraph() # Create a followee tweet di graph\n",
    "directedGraph2.add_nodes_from(nodes2) # Add nodes to the graph -2\n",
    "directedGraph2.add_edges_from(edgeTrain)  # Add edges to the graph -2"
   ]
  },
  {
   "cell_type": "code",
   "execution_count": 68,
   "metadata": {},
   "outputs": [],
   "source": [
    "def retweetPrediction(x_test,tweetData,graph,graph2): # Code to predict next tweet for the followee\n",
    "    answerTest = [] # Predicited answer are stored here\n",
    "    for test in tqdm(x_test): # For test in the data set\n",
    "        testSample = int(test[0]) # Get test sample and extract followee id\n",
    "        neighbour = list(graph2.neighbors(testSample)) # Get follower the current user is following\n",
    "        neighbourTweet = list(graph.neighbors(testSample)) # Get previous tweets of the user\n",
    "        neighbourData = tweetData.loc[list(neighbourTweet)] # Get data of the previous tweet\n",
    "        languages = neighbourData[\"Language\"].tolist() # Get previous languages of the user\n",
    "        sentiment = neighbourData[\"Sentiment\"].sum() # Get user sentiment by summing over the tweets\n",
    "        sentiment = 0 if sentiment==0 else (1 if sentiment > 0 else -1) # Get sentiment of the user\n",
    "        maxScore = 0 # Get max score tweet \n",
    "        t2 = time.strptime(test[1],'%a %b %d %H:%M:%S +0000 %Y') # Convert user tweet time to get next possible retweet\n",
    "        maxScoreId = 0 # Get score id of the tweet\n",
    "        for index,row in tweetData.iterrows(): # Iterate over the all possible tweets\n",
    "            score = 1 # score for current tweet\n",
    "            if index not in neighbourTweet: # If not previous tweet of the user\n",
    "                if row[\"Language\"] in languages: # If one the previous languages of user tweet\n",
    "                    score += 10\n",
    "\n",
    "                if row[\"Sentiment\"] == sentiment: # If sentiment of user matches\n",
    "                    score += 10\n",
    "\n",
    "                if row[\"FolloweeId\"] in neighbour: # If user follow the writer of tweet\n",
    "                    t1 = time.strptime(row[\"Tweet-Time\"],'%a %b %d %H:%M:%S +0000 %Y') # Get tweet time\n",
    "                    temp = ((time.mktime(t2)-time.mktime(t1))/(60*60)) # Convert tweet time to hour\n",
    "                    if temp<= 0: # If tweet time > retweet time\n",
    "                        score += 0\n",
    "                    else: # Else divide it by the user time\n",
    "                        score += 3000/temp\n",
    "                    \n",
    "\n",
    "                score += (log(row[\"Likes\"]+1)+log(row[\"No-Of-Followers\"]+1)/log(row[\"No-Of-Friends\"]+2)) # Add followee data\n",
    "                score += log(row[\"Retweet-Count\"]+1)*5 # Give more weightage to retweet time\n",
    "                if score>maxScore: # If score > previous heighest score\n",
    "                    maxScoreId = index # Store the index\n",
    "                    maxScore = score # Previous higher score\n",
    "        answerTest.append(maxScoreId) # Append the score id for the user\n",
    "    return answerTest # Return the answer"
   ]
  },
  {
   "cell_type": "code",
   "execution_count": 69,
   "metadata": {},
   "outputs": [
    {
     "data": {
      "application/vnd.jupyter.widget-view+json": {
       "model_id": "35411684b5d04eeea3bff1e711ff4896",
       "version_major": 2,
       "version_minor": 0
      },
      "text/plain": [
       "HBox(children=(IntProgress(value=0, max=136), HTML(value='')))"
      ]
     },
     "metadata": {},
     "output_type": "display_data"
    },
    {
     "name": "stdout",
     "output_type": "stream",
     "text": [
      "\n"
     ]
    }
   ],
   "source": [
    "answer = retweetPrediction(x_test,tweetData,directedGraph2,directedGraph) # Get the predicted next tweet id "
   ]
  },
  {
   "cell_type": "code",
   "execution_count": 71,
   "metadata": {},
   "outputs": [
    {
     "name": "stdout",
     "output_type": "stream",
     "text": [
      "Accuracy of the correct next tweet prediciton :  0.7132352941176471\n"
     ]
    }
   ],
   "source": [
    "print(\"Accuracy of the correct next tweet prediciton : \",accuracy_score(answer,y_test)) # Get the accuracy score"
   ]
  },
  {
   "cell_type": "code",
   "execution_count": 39,
   "metadata": {},
   "outputs": [
    {
     "data": {
      "text/plain": [
       "[0.72, 0.67]"
      ]
     },
     "execution_count": 39,
     "metadata": {},
     "output_type": "execute_result"
    }
   ],
   "source": []
  },
  {
   "cell_type": "code",
   "execution_count": 79,
   "metadata": {},
   "outputs": [
    {
     "data": {
      "image/png": "[encoded data removed]",
      "text/plain": [
       "<Figure size 432x288 with 1 Axes>"
      ]
     },
     "metadata": {
      "needs_background": "light"
     },
     "output_type": "display_data"
    }
   ],
   "source": [
    "plt.plot([1,0.9,0.8,0.7,0.6,0.5],[75.21,74.26,73.52,73.10,72.05,71.32],marker=\"o\")\n",
    "plt.xlabel(\"Edges present\")\n",
    "plt.ylabel(\"Accuray\")\n",
    "plt.show()"
   ]
  },
  {
   "cell_type": "code",
   "execution_count": null,
   "metadata": {},
   "outputs": [],
   "source": []
  }
 ],
 "metadata": {
  "kernelspec": {
   "display_name": "Python 3",
   "language": "python",
   "name": "python3"
  },
  "language_info": {
   "codemirror_mode": {
    "name": "ipython",
    "version": 3
   },
   "file_extension": ".py",
   "mimetype": "text/x-python",
   "name": "python",
   "nbconvert_exporter": "python",
   "pygments_lexer": "ipython3",
   "version": "3.7.4"
  }
 },
 "nbformat": 4,
 "nbformat_minor": 2
}
