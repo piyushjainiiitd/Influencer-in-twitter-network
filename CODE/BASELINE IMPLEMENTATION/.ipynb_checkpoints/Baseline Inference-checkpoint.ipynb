{
 "cells": [
  {
   "cell_type": "code",
   "execution_count": 1,
   "metadata": {},
   "outputs": [],
   "source": [
    "# Import files\n",
    "import csv\n",
    "import pandas as pd\n",
    "import numpy as np\n",
    "from tqdm import tqdm \n",
    "import sys\n",
    "import itertools\n",
    "import networkx as nx\n",
    "import time\n",
    "import plotly.express as px\n",
    "from math import log10 as log\n",
    "import matplotlib.pyplot as plt\n",
    "from matplotlib import style"
   ]
  },
  {
   "cell_type": "code",
   "execution_count": 2,
   "metadata": {},
   "outputs": [],
   "source": [
    "data=pd.read_csv(\"Retweet-Data.csv\")\n",
    "\n",
    "screenIdDict = {}\n",
    "screenId = data.iloc[:,1:3]\n",
    "screenId = screenId.values.tolist() \n",
    "for i in screenId:\n",
    "    if i[0] not in screenIdDict:\n",
    "        screenIdDict[i[0]] = i[1]"
   ]
  },
  {
   "cell_type": "code",
   "execution_count": 3,
   "metadata": {},
   "outputs": [
    {
     "name": "stdout",
     "output_type": "stream",
     "text": [
      "\n",
      "\n"
     ]
    }
   ],
   "source": [
    "edges = data.iloc[:,0:2]\n",
    "edges = edges.values.tolist()\n",
    "graph = nx.MultiDiGraph()\n",
    "graph.add_edges_from(edges)\n",
    "print()\n",
    "\n",
    "edges2 = [tuple(edge) for edge in edges]\n",
    "graph2 = nx.DiGraph()\n",
    "graph2.add_edges_from(edges2)\n",
    "print()"
   ]
  },
  {
   "cell_type": "code",
   "execution_count": 4,
   "metadata": {},
   "outputs": [],
   "source": [
    "nx.write_gexf(graph,\"Project_Retweet.gexf\")"
   ]
  },
  {
   "cell_type": "markdown",
   "metadata": {},
   "source": [
    "***Baseline - 1***"
   ]
  },
  {
   "cell_type": "code",
   "execution_count": 5,
   "metadata": {},
   "outputs": [],
   "source": [
    "def follower_followee(data): # Calculate follower followee ratio \n",
    "    data1=data[[\"FolloweeId\",\"No-Of-Followers\",\"No-Of-Friends\"]]\n",
    "    follower_followe_dict={}\n",
    "    for i in range(len(data1)):\n",
    "        if data1.iloc[i][\"No-Of-Friends\"]!=0:\n",
    "            follower_followe_dict[data1.iloc[i][\"FolloweeId\"]]=data1.iloc[i][\"No-Of-Followers\"]/data1.iloc[i][\"No-Of-Friends\"]\n",
    "        else:\n",
    "            follower_followe_dict[data1.iloc[i][\"FolloweeId\"]]=data1.iloc[i][\"No-Of-Followers\"]\n",
    "    #         print(data1.iloc[i][\"FollowerId\"])\n",
    "    df1 = pd.DataFrame()\n",
    "    df1['FolloweeId'] = follower_followe_dict.keys()\n",
    "    df1['ratio'] = follower_followe_dict.values() \n",
    "    return df1\n",
    "    \n"
   ]
  },
  {
   "cell_type": "code",
   "execution_count": null,
   "metadata": {},
   "outputs": [],
   "source": [
    "df1 = follower_followee(data)"
   ]
  },
  {
   "cell_type": "code",
   "execution_count": null,
   "metadata": {},
   "outputs": [],
   "source": [
    "def tweet_retweet(data): # Calculate tweet retweet ratio \n",
    "    data2=data[[\"FolloweeId\",\"Statuses-Count\",\"Retweet-Count\"]]\n",
    "    tweet_retweet_dict={}\n",
    "    for i in range(len(data2)):\n",
    "        if data2.iloc[i][\"FolloweeId\"] in tweet_retweet_dict.keys():\n",
    "            x=tweet_retweet_dict[data2.iloc[i][\"FolloweeId\"]]\n",
    "            x=max(x,data2.iloc[i][\"Retweet-Count\"]/data2.iloc[i][\"Statuses-Count\"])\n",
    "            tweet_retweet_dict[data2.iloc[i][\"FolloweeId\"]]=x\n",
    "\n",
    "        else:\n",
    "            tweet_retweet_dict[data2.iloc[i][\"FolloweeId\"]]=data2.iloc[i][\"Retweet-Count\"]/data2.iloc[i][\"Statuses-Count\"]\n",
    "    df2 = pd.DataFrame()\n",
    "    df2['FolloweeId'] = tweet_retweet_dict.keys()\n",
    "    df2[\"ratio\"] = tweet_retweet_dict.values()\n",
    "    return df2"
   ]
  },
  {
   "cell_type": "code",
   "execution_count": null,
   "metadata": {},
   "outputs": [],
   "source": [
    "df2 = tweet_retweet(data)"
   ]
  },
  {
   "cell_type": "code",
   "execution_count": null,
   "metadata": {},
   "outputs": [],
   "source": [
    "def retweet_follower(data):  \n",
    "    data3 = (data[[\"FolloweeId\",\"No-Of-Followers\",\"Tweet-Id\",\"Retweet-Count\"]]).values.tolist()\n",
    "    data3 = sorted(data3,key = lambda x:x[2])\n",
    "    \n",
    "    newData = []\n",
    "    for key,group in itertools.groupby(data3,key = lambda x:x[2]):\n",
    "        newData += [max(group,key=lambda x: x[3])]\n",
    "\n",
    "    newData = sorted(newData,key = lambda x:x[0])\n",
    "    finalData = []\n",
    "    for key,group in itertools.groupby(newData,key = lambda x:x[0]):\n",
    "        groupData = list(group)\n",
    "        sumList = sum([i[3] for i in groupData])\n",
    "        if(groupData[0][1] != 0):\n",
    "            finalData.append((key,sumList/groupData[0][1]))\n",
    "        else:\n",
    "            finalData.append((key,0))\n",
    "            \n",
    "    df3 = pd.DataFrame()\n",
    "    df3[\"FolloweeId\"] = [i[0] for i in finalData]\n",
    "    df3[\"ratio\"] = [i[1] for i in finalData]\n",
    "    return df3"
   ]
  },
  {
   "cell_type": "code",
   "execution_count": null,
   "metadata": {},
   "outputs": [],
   "source": [
    "df3 = retweet_follower(data)"
   ]
  },
  {
   "cell_type": "code",
   "execution_count": null,
   "metadata": {},
   "outputs": [],
   "source": [
    "def Tweet_Retweet(data):\n",
    "    data4 = (data[[\"FolloweeId\",\"Tweet-Time\",\"Retweet-Time\",\"Retweet-Count\"]]).values.tolist()\n",
    "    ts = time.strptime(data4[1][1],'%a %b %d %H:%M:%S +0000 %Y')\n",
    "    ts2 = time.strptime(data4[1][2],'%a %b %d %H:%M:%S +0000 %Y')\n",
    "    \n",
    "    newData = [[data[0],(time.mktime(time.strptime(data[2],'%a %b %d %H:%M:%S +0000 %Y')) - time.mktime(time.strptime(data[1],'%a %b %d %H:%M:%S +0000 %Y'))),data[3]] for data in data4]\n",
    "    finalData = []\n",
    "    newData = sorted(newData,key = lambda x:x[0])\n",
    "    for key,group in itertools.groupby(newData,key = lambda x:x[0]):\n",
    "        finalData += [max(group,key=lambda x: x[1])]\n",
    "     \n",
    "    df4 = pd.DataFrame()\n",
    "    df4[\"FolloweeId\"] = [i[0] for i in finalData]\n",
    "    df4[\"retweetTime\"] = [i[1] for i in finalData]\n",
    "    df4[\"retweetCount\"] = [i[2] for i in finalData]\n",
    "    return df4"
   ]
  },
  {
   "cell_type": "code",
   "execution_count": null,
   "metadata": {},
   "outputs": [],
   "source": [
    "df4 = Tweet_Retweet(data)"
   ]
  },
  {
   "cell_type": "code",
   "execution_count": null,
   "metadata": {},
   "outputs": [],
   "source": [
    "def communityStructure(data):\n",
    "    data5 = (data[[\"FolloweeId\",\"No-Of-Followers\",\"Tweet-Id\",\"Retweet-Count\"]]).values.tolist()\n",
    "    data5 = sorted(data5,key = lambda x:x[2])\n",
    "    \n",
    "    newData = []\n",
    "    for key,group in itertools.groupby(data5,key = lambda x:x[2]):\n",
    "        newData += [max(group,key=lambda x: x[3])]\n",
    "\n",
    "    newData = sorted(newData,key = lambda x:x[0])\n",
    "    finalData = []\n",
    "    for key,group in itertools.groupby(newData,key = lambda x:x[0]):\n",
    "        groupData = list(group)\n",
    "        sumList = sum([i[3] for i in groupData])\n",
    "        if(groupData[0][1] != 0):\n",
    "            finalData.append((key,sumList))\n",
    "        else:\n",
    "            finalData.append((key,0))\n",
    "    \n",
    "    finalData = sorted(finalData,key = lambda x:x[1])\n",
    "    \n",
    "    followeeId = [i[0] for i in finalData[:10]+finalData[-50:]]\n",
    "    \n",
    "    dataList = data.values.tolist()\n",
    "    finalCommunityData = []\n",
    "    \n",
    "    for d in dataList:\n",
    "        if(d[1] in followeeId):\n",
    "            finalCommunityData += [d]\n",
    "    \n",
    "    df5 = pd.DataFrame()\n",
    "    for i in range(len(data.columns)):  \n",
    "        df5[data.columns[i]] = [j[i] for j in finalCommunityData] \n",
    "    \n",
    "    return df5"
   ]
  },
  {
   "cell_type": "code",
   "execution_count": null,
   "metadata": {},
   "outputs": [],
   "source": [
    "df5 = communityStructure(data)"
   ]
  },
  {
   "cell_type": "code",
   "execution_count": null,
   "metadata": {},
   "outputs": [],
   "source": [
    "df4_c = (Tweet_Retweet(df5)).sort_values(by=['FolloweeId'])\n",
    "df1_c = (follower_followee(df5)).sort_values(by=['FolloweeId'])\n",
    "df2_c = (tweet_retweet(df5)).sort_values(by=['FolloweeId'])"
   ]
  },
  {
   "cell_type": "code",
   "execution_count": null,
   "metadata": {},
   "outputs": [],
   "source": [
    "df4 = df4.sort_values(by=['FolloweeId'])\n",
    "df3 = df3.sort_values(by=['FolloweeId'])\n",
    "df1 = df1.sort_values(by=['FolloweeId'])\n",
    "df2 = df2.sort_values(by=['FolloweeId'])"
   ]
  },
  {
   "cell_type": "code",
   "execution_count": null,
   "metadata": {},
   "outputs": [],
   "source": [
    "def retransmission_graph(df4,df1):\n",
    "    deg_ratio=[]\n",
    "    ret_count=[]\n",
    "    for i in range(len(df1)):\n",
    "        ret_count.append(df4[\"retweetCount\"][i])\n",
    "        deg_ratio.append(df1[\"ratio\"][i])\n",
    "    return  ret_count,deg_ratio"
   ]
  },
  {
   "cell_type": "code",
   "execution_count": null,
   "metadata": {},
   "outputs": [],
   "source": [
    "def plotRetransmissionGraph(df4,df1):\n",
    "    y_axis,x_axis=retransmission_graph(df4,df1)\n",
    "    px.scatter(x=x_axis,y=y_axis,labels={'y':\"Rin\",'x':'kin/kout'},title = \"Rin transmission vs Kin/Kout\").show()"
   ]
  },
  {
   "cell_type": "code",
   "execution_count": null,
   "metadata": {},
   "outputs": [],
   "source": [
    "plotRetransmissionGraph(df4,df1)"
   ]
  },
  {
   "cell_type": "code",
   "execution_count": null,
   "metadata": {},
   "outputs": [],
   "source": [
    "def enthusiasm_graph(df1,df4):\n",
    "    user_duration=[]\n",
    "    deg_ratio=[]\n",
    "    for i in range(len(df1)):\n",
    "        deg_ratio.append(df1[\"ratio\"][i])\n",
    "        if df4[\"retweetCount\"][i]!=0:\n",
    "            user_duration.append(df4[\"retweetTime\"][i]/(df4[\"retweetCount\"][i]*3600))\n",
    "        else:\n",
    "            user_duration.append(0)\n",
    "        \n",
    "    return user_duration,deg_ratio"
   ]
  },
  {
   "cell_type": "code",
   "execution_count": null,
   "metadata": {},
   "outputs": [],
   "source": [
    "def plotEnthusiasmGraph(df1,df4):\n",
    "    y1_axis,x1_axis=enthusiasm_graph(df1,df4)\n",
    "    px.scatter(x=x1_axis,y=y1_axis,labels={'y':\"User Enthusiasm\",'x':'kin/kout'},title=\"User Enthusiasm vs Kin/Kout\").show()"
   ]
  },
  {
   "cell_type": "code",
   "execution_count": null,
   "metadata": {},
   "outputs": [],
   "source": [
    "plotEnthusiasmGraph(df1,df4)"
   ]
  },
  {
   "cell_type": "code",
   "execution_count": null,
   "metadata": {},
   "outputs": [],
   "source": [
    "def popularityVsRetweet_graph(df2,df1):\n",
    "    deg_ratio=[]\n",
    "    ret_count=[]\n",
    "    for i in range(len(df1)):\n",
    "        ret_count.append(df2[\"ratio\"][i])\n",
    "        deg_ratio.append(df1[\"ratio\"][i])\n",
    "    return  ret_count,deg_ratio"
   ]
  },
  {
   "cell_type": "code",
   "execution_count": null,
   "metadata": {},
   "outputs": [],
   "source": [
    "def plotPopularityVsRetweet_graph(df1,df2):\n",
    "    y1_axis,x1_axis=popularityVsRetweet_graph(df2,df1)\n",
    "    px.scatter(x=x1_axis,y=y1_axis,labels={'y':\"Retweet/Followers\",'x':'kin/kout'},title=\"User Engine vs kin/kout\").show()"
   ]
  },
  {
   "cell_type": "code",
   "execution_count": null,
   "metadata": {},
   "outputs": [],
   "source": [
    "plotPopularityVsRetweet_graph(df1,df2)"
   ]
  },
  {
   "cell_type": "markdown",
   "metadata": {},
   "source": [
    "****Plots for small community graph****"
   ]
  },
  {
   "cell_type": "code",
   "execution_count": null,
   "metadata": {},
   "outputs": [],
   "source": [
    "plotRetransmissionGraph(df4_c,df1_c)"
   ]
  },
  {
   "cell_type": "code",
   "execution_count": null,
   "metadata": {},
   "outputs": [],
   "source": [
    "plotEnthusiasmGraph(df1_c,df4_c)"
   ]
  },
  {
   "cell_type": "code",
   "execution_count": null,
   "metadata": {},
   "outputs": [],
   "source": [
    "plotPopularityVsRetweet_graph(df1_c,df2_c)"
   ]
  },
  {
   "cell_type": "markdown",
   "metadata": {},
   "source": [
    "***Baseline - 2***"
   ]
  },
  {
   "cell_type": "code",
   "execution_count": null,
   "metadata": {},
   "outputs": [],
   "source": [
    "def follower_followeeVsPageRank(df,graph):\n",
    "    dflist = df.values.tolist()\n",
    "    pageRank = nx.pagerank(graph)\n",
    "    x_axis = []\n",
    "    y_axis = []\n",
    "    for d in dflist:\n",
    "        if d[0] in pageRank:\n",
    "            x_axis += [log(d[1]+1)] \n",
    "            y_axis += [log(pageRank[d[0]])]\n",
    "    px.scatter(x=x_axis,y=y_axis,labels={'y':\"Page Rank\",'x':'Follower/Followee'},title=\"Follower/Followee vs Page Rank\").show()"
   ]
  },
  {
   "cell_type": "code",
   "execution_count": null,
   "metadata": {},
   "outputs": [],
   "source": [
    "follower_followeeVsPageRank(df1,graph2)"
   ]
  },
  {
   "cell_type": "code",
   "execution_count": null,
   "metadata": {},
   "outputs": [],
   "source": [
    "def SNPRatio(df3,df2):\n",
    "    values = []\n",
    "    for index in range(len(df3)):\n",
    "        values.append([df3.iloc[index,0],(df3.iloc[index,1] + df2.iloc[index,1])/2])  \n",
    "    ids = [i[0] for i in sorted(values,key= lambda x:x[1],reverse=True)]\n",
    "    \n",
    "    return [screenIdDict[i] for i in ids[:10]]"
   ]
  },
  {
   "cell_type": "code",
   "execution_count": null,
   "metadata": {},
   "outputs": [],
   "source": [
    "SNPRatio(df3,df2)"
   ]
  },
  {
   "cell_type": "code",
   "execution_count": null,
   "metadata": {},
   "outputs": [],
   "source": [
    "def findtop(df):\n",
    "    temp = ((df2.sort_values(by=[\"ratio\"]).tail(5))[\"FolloweeId\"]).values.tolist()\n",
    "    \n",
    "    return [screenIdDict[i] for i in temp]\n",
    "    "
   ]
  },
  {
   "cell_type": "code",
   "execution_count": null,
   "metadata": {},
   "outputs": [],
   "source": [
    "findtop(df2)"
   ]
  }
 ],
 "metadata": {
  "kernelspec": {
   "display_name": "Python 3",
   "language": "python",
   "name": "python3"
  },
  "language_info": {
   "codemirror_mode": {
    "name": "ipython",
    "version": 3
   },
   "file_extension": ".py",
   "mimetype": "text/x-python",
   "name": "python",
   "nbconvert_exporter": "python",
   "pygments_lexer": "ipython3",
   "version": "3.7.4"
  }
 },
 "nbformat": 4,
 "nbformat_minor": 2
}
